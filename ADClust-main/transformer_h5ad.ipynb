{
 "cells": [
  {
   "cell_type": "code",
   "execution_count": 1,
   "metadata": {},
   "outputs": [
    {
     "ename": "ValueError",
     "evalue": "cannot reshape array of size 72372352 into shape (224,224)",
     "output_type": "error",
     "traceback": [
      "\u001b[0;31m---------------------------------------------------------------------------\u001b[0m",
      "\u001b[0;31mValueError\u001b[0m                                Traceback (most recent call last)",
      "\u001b[0;32m/tmp/ipykernel_7539/3296513311.py\u001b[0m in \u001b[0;36m<module>\u001b[0;34m\u001b[0m\n\u001b[1;32m     18\u001b[0m \u001b[0;31m# Example usage\u001b[0m\u001b[0;34m\u001b[0m\u001b[0;34m\u001b[0m\u001b[0;34m\u001b[0m\u001b[0m\n\u001b[1;32m     19\u001b[0m \u001b[0madata\u001b[0m \u001b[0;34m=\u001b[0m \u001b[0msc\u001b[0m\u001b[0;34m.\u001b[0m\u001b[0mread_h5ad\u001b[0m\u001b[0;34m(\u001b[0m\u001b[0;34m'/home/yash-kumar-gola/Documents/SPACEL-main/dataset/visium_human_breast_cancer/human_bc_spatial_1142243F.h5ad'\u001b[0m\u001b[0;34m)\u001b[0m\u001b[0;34m\u001b[0m\u001b[0;34m\u001b[0m\u001b[0m\n\u001b[0;32m---> 20\u001b[0;31m \u001b[0mimages\u001b[0m \u001b[0;34m=\u001b[0m \u001b[0mpreprocess_data_for_vit\u001b[0m\u001b[0;34m(\u001b[0m\u001b[0madata\u001b[0m\u001b[0;34m)\u001b[0m\u001b[0;34m\u001b[0m\u001b[0;34m\u001b[0m\u001b[0m\n\u001b[0m",
      "\u001b[0;32m/tmp/ipykernel_7539/3296513311.py\u001b[0m in \u001b[0;36mpreprocess_data_for_vit\u001b[0;34m(adata, image_size)\u001b[0m\n\u001b[1;32m     10\u001b[0m \u001b[0;34m\u001b[0m\u001b[0m\n\u001b[1;32m     11\u001b[0m     \u001b[0;31m# Reshape data into a square image-like format\u001b[0m\u001b[0;34m\u001b[0m\u001b[0;34m\u001b[0m\u001b[0;34m\u001b[0m\u001b[0m\n\u001b[0;32m---> 12\u001b[0;31m     \u001b[0mdata_reshaped\u001b[0m \u001b[0;34m=\u001b[0m \u001b[0mdata_scaled\u001b[0m\u001b[0;34m.\u001b[0m\u001b[0mreshape\u001b[0m\u001b[0;34m(\u001b[0m\u001b[0;34m-\u001b[0m\u001b[0;36m1\u001b[0m\u001b[0;34m,\u001b[0m \u001b[0mimage_size\u001b[0m\u001b[0;34m[\u001b[0m\u001b[0;36m0\u001b[0m\u001b[0;34m]\u001b[0m\u001b[0;34m,\u001b[0m \u001b[0mimage_size\u001b[0m\u001b[0;34m[\u001b[0m\u001b[0;36m1\u001b[0m\u001b[0;34m]\u001b[0m\u001b[0;34m)\u001b[0m\u001b[0;34m\u001b[0m\u001b[0;34m\u001b[0m\u001b[0m\n\u001b[0m\u001b[1;32m     13\u001b[0m \u001b[0;34m\u001b[0m\u001b[0m\n\u001b[1;32m     14\u001b[0m     \u001b[0;31m# Convert to 3 channels if needed (e.g., RGB)\u001b[0m\u001b[0;34m\u001b[0m\u001b[0;34m\u001b[0m\u001b[0;34m\u001b[0m\u001b[0m\n",
      "\u001b[0;31mValueError\u001b[0m: cannot reshape array of size 72372352 into shape (224,224)"
     ]
    }
   ],
   "source": [
    "import numpy as np\n",
    "import scanpy as sc\n",
    "from sklearn.preprocessing import MinMaxScaler\n",
    "import matplotlib.pyplot as plt\n",
    "\n",
    "def preprocess_data_for_vit(adata, image_size=(224, 224)):\n",
    "    data = adata.X.A if hasattr(adata.X, 'A') else adata.X\n",
    "    scaler = MinMaxScaler()\n",
    "    data_scaled = scaler.fit_transform(data)\n",
    "    \n",
    "    # Reshape data into a square image-like format\n",
    "    data_reshaped = data_scaled.reshape(-1, image_size[0], image_size[1])\n",
    "    \n",
    "    # Convert to 3 channels if needed (e.g., RGB)\n",
    "    data_reshaped = np.stack([data_reshaped]*3, axis=-1)\n",
    "    return data_reshaped\n",
    "\n",
    "# Example usage\n",
    "adata = sc.read_h5ad('/home/yash-kumar-gola/Documents/SPACEL-main/dataset/visium_human_breast_cancer/human_bc_spatial_1142243F.h5ad')\n",
    "images = preprocess_data_for_vit(adata)\n"
   ]
  },
  {
   "cell_type": "code",
   "execution_count": 2,
   "metadata": {},
   "outputs": [],
   "source": [
    "import numpy as np\n",
    "import scanpy as sc\n",
    "from sklearn.preprocessing import MinMaxScaler\n",
    "\n",
    "def preprocess_data_for_vit(adata, target_size=(224, 224)):\n",
    "    data = adata.X.A if hasattr(adata.X, 'A') else adata.X\n",
    "    num_cells, num_genes = data.shape\n",
    "    \n",
    "    # Normalize the data\n",
    "    scaler = MinMaxScaler()\n",
    "    data_scaled = scaler.fit_transform(data)\n",
    "    \n",
    "    # Calculate the required size for reshaping\n",
    "    required_size = target_size[0] * target_size[1]\n",
    "    if num_genes > required_size:\n",
    "        # Truncate the data if more genes than pixels\n",
    "        data_scaled = data_scaled[:, :required_size]\n",
    "    elif num_genes < required_size:\n",
    "        # Pad the data if fewer genes than pixels\n",
    "        padding = np.zeros((num_cells, required_size - num_genes))\n",
    "        data_scaled = np.hstack((data_scaled, padding))\n",
    "    \n",
    "    # Reshape to image format (assuming single channel here)\n",
    "    data_reshaped = data_scaled.reshape(num_cells, target_size[0], target_size[1])\n",
    "    \n",
    "    # Convert to 3 channels (e.g., grayscale to RGB)\n",
    "    data_reshaped = np.stack([data_reshaped]*3, axis=-1)\n",
    "    return data_reshaped\n",
    "\n",
    "# Example usage\n",
    "adata = sc.read_h5ad('/home/yash-kumar-gola/Documents/SPACEL-main/dataset/visium_human_breast_cancer/human_bc_spatial_1142243F.h5ad')\n",
    "images = preprocess_data_for_vit(adata)\n"
   ]
  },
  {
   "cell_type": "code",
   "execution_count": null,
   "metadata": {},
   "outputs": [],
   "source": []
  }
 ],
 "metadata": {
  "kernelspec": {
   "display_name": "env",
   "language": "python",
   "name": "python3"
  },
  "language_info": {
   "codemirror_mode": {
    "name": "ipython",
    "version": 3
   },
   "file_extension": ".py",
   "mimetype": "text/x-python",
   "name": "python",
   "nbconvert_exporter": "python",
   "pygments_lexer": "ipython3",
   "version": "3.7.17"
  }
 },
 "nbformat": 4,
 "nbformat_minor": 2
}
